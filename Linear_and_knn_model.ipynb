{
 "cells": [
  {
   "cell_type": "code",
   "execution_count": 1,
   "id": "3cd992d6",
   "metadata": {},
   "outputs": [],
   "source": [
    "import pandas as pd\n",
    "import numpy as np\n",
    "import matplotlib.pyplot as plt\n",
    "from sklearn import metrics\n",
    "from sklearn.metrics import accuracy_score\n",
    "from sklearn.model_selection import train_test_split\n",
    "from sklearn.preprocessing import StandardScaler\n",
    "from sklearn.neighbors import KNeighborsClassifier\n",
    "from sklearn.linear_model import LogisticRegression\n"
   ]
  },
  {
   "cell_type": "markdown",
   "id": "7f6e1a49",
   "metadata": {},
   "source": [
    "Knn"
   ]
  },
  {
   "cell_type": "code",
   "execution_count": 2,
   "id": "569fc306",
   "metadata": {},
   "outputs": [],
   "source": [
    "df = pd.read_csv('stocks.csv')\n",
    "df = df.iloc[: , 1:]"
   ]
  },
  {
   "cell_type": "code",
   "execution_count": 3,
   "id": "2e376e14",
   "metadata": {},
   "outputs": [],
   "source": [
    "year_1 = df[df['Year'] == 2021].reset_index(drop=True)"
   ]
  },
  {
   "cell_type": "code",
   "execution_count": 4,
   "id": "e83e6ca5",
   "metadata": {},
   "outputs": [],
   "source": [
    "year_2 = df[df['Year'] == 2022].reset_index(drop=True)"
   ]
  },
  {
   "cell_type": "code",
   "execution_count": 5,
   "id": "810f2b8f",
   "metadata": {},
   "outputs": [],
   "source": [
    "scaler = StandardScaler()"
   ]
  },
  {
   "cell_type": "code",
   "execution_count": 6,
   "id": "eec98c4b",
   "metadata": {},
   "outputs": [],
   "source": [
    "X_train = year_1.iloc[:,2:4]\n",
    "y_train = year_1.iloc[:,4]\n",
    "X_test = year_2.iloc[:,2:4]\n",
    "y_test = year_2.iloc[:,4]"
   ]
  },
  {
   "cell_type": "code",
   "execution_count": 7,
   "id": "f71a9f69",
   "metadata": {},
   "outputs": [],
   "source": [
    "X_train = scaler.fit_transform(X_train)\n",
    "X_test = scaler.fit_transform(X_test)"
   ]
  },
  {
   "cell_type": "code",
   "execution_count": 8,
   "id": "e20fc81c",
   "metadata": {},
   "outputs": [
    {
     "name": "stdout",
     "output_type": "stream",
     "text": [
      "Confusion Matrix:\n",
      "[[26  6]\n",
      " [ 0 20]]\n",
      "Classification Report:\n",
      "              precision    recall  f1-score   support\n",
      "\n",
      "           0       1.00      0.81      0.90        32\n",
      "           1       0.77      1.00      0.87        20\n",
      "\n",
      "    accuracy                           0.88        52\n",
      "   macro avg       0.88      0.91      0.88        52\n",
      "weighted avg       0.91      0.88      0.89        52\n",
      "\n"
     ]
    }
   ],
   "source": [
    "scores = {}\n",
    "scores_list = []\n",
    "range_k = [3,5,7,9,11]\n",
    "for k in range_k:\n",
    "   classifier = KNeighborsClassifier(n_neighbors=k)\n",
    "   classifier.fit(X_train, y_train)\n",
    "   y_pred = classifier.predict(X_test)\n",
    "   scores[k] = metrics.accuracy_score(y_test,y_pred)\n",
    "   scores_list.append(metrics.accuracy_score(y_test,y_pred))\n",
    "result = metrics.confusion_matrix(y_test, y_pred)\n",
    "print(\"Confusion Matrix:\")\n",
    "print(result)\n",
    "result1 = metrics.classification_report(y_test, y_pred)\n",
    "print(\"Classification Report:\",)\n",
    "print (result1)\n"
   ]
  },
  {
   "cell_type": "code",
   "execution_count": 9,
   "id": "1ae84d75",
   "metadata": {},
   "outputs": [
    {
     "data": {
      "text/plain": [
       "Text(0, 0.5, 'Accuracy')"
      ]
     },
     "execution_count": 9,
     "metadata": {},
     "output_type": "execute_result"
    },
    {
     "data": {
      "image/png": "[encoded data removed]",
      "text/plain": [
       "<Figure size 432x288 with 1 Axes>"
      ]
     },
     "metadata": {
      "needs_background": "light"
     },
     "output_type": "display_data"
    }
   ],
   "source": [
    "import matplotlib.pyplot as plt\n",
    "plt.plot(range_k,scores_list)\n",
    "plt.xlabel(\"Value of K\")\n",
    "plt.ylabel(\"Accuracy\")"
   ]
  },
  {
   "cell_type": "markdown",
   "id": "bc7fc649",
   "metadata": {},
   "source": [
    "Year 2"
   ]
  },
  {
   "cell_type": "code",
   "execution_count": 10,
   "id": "8db11ba5",
   "metadata": {},
   "outputs": [
    {
     "name": "stdout",
     "output_type": "stream",
     "text": [
      "0.8846153846153846\n"
     ]
    }
   ],
   "source": [
    "accuracy = accuracy_score(y_test, y_pred)\n",
    "print(accuracy)"
   ]
  },
  {
   "cell_type": "code",
   "execution_count": 11,
   "id": "912de898",
   "metadata": {},
   "outputs": [
    {
     "name": "stdout",
     "output_type": "stream",
     "text": [
      "Confusion Matrix:\n",
      "[[28  4]\n",
      " [ 0 20]]\n"
     ]
    }
   ],
   "source": [
    "#knn for 3 neighbors\n",
    "classifier = KNeighborsClassifier(n_neighbors=3)\n",
    "classifier.fit(X_train, y_train)\n",
    "y_pred = classifier.predict(X_test)\n",
    "\n",
    "result = metrics.confusion_matrix(y_test, y_pred)\n",
    "print(\"Confusion Matrix:\")\n",
    "print(result)\n"
   ]
  },
  {
   "cell_type": "code",
   "execution_count": 12,
   "id": "f8cfab21",
   "metadata": {},
   "outputs": [
    {
     "data": {
      "text/plain": [
       "1.0"
      ]
     },
     "execution_count": 12,
     "metadata": {},
     "output_type": "execute_result"
    }
   ],
   "source": [
    "TPR = 20/(20+0)\n",
    "TPR"
   ]
  },
  {
   "cell_type": "code",
   "execution_count": 13,
   "id": "46bb3454",
   "metadata": {},
   "outputs": [
    {
     "data": {
      "text/plain": [
       "0.9032258064516129"
      ]
     },
     "execution_count": 13,
     "metadata": {},
     "output_type": "execute_result"
    }
   ],
   "source": [
    "TNR = 28/(28+3)\n",
    "TNR"
   ]
  },
  {
   "cell_type": "markdown",
   "id": "a5226b50",
   "metadata": {},
   "source": [
    "Compare custom strategy to buy & hold for KNN"
   ]
  },
  {
   "cell_type": "code",
   "execution_count": 14,
   "id": "c2c873a6",
   "metadata": {},
   "outputs": [],
   "source": [
    "year_2[\"label\"] = y_pred"
   ]
  },
  {
   "cell_type": "code",
   "execution_count": 15,
   "id": "b5152213",
   "metadata": {},
   "outputs": [
    {
     "name": "stdout",
     "output_type": "stream",
     "text": [
      "Investment amount: 10000 INR\n",
      "Buy price: 2,428.69 INR\n",
      "Sell price: 2,547.20 INR\n",
      "Return percentage: 4.88%\n",
      "Profit/Loss: 487.96 INR\n"
     ]
    }
   ],
   "source": [
    "#buy and hold for inital investment of 10000 INR\n",
    "no_shares = 10000/year_2.iloc[0]['open']\n",
    "buy = year_2.iloc[0]['open']\n",
    "sell = year_2.iloc[-1]['open']\n",
    "\n",
    "returns1 = (sell*no_shares - buy*no_shares) \n",
    "\n",
    "profit_loss = 100 * (returns1/10000)\n",
    "\n",
    "print(\"Investment amount: 10000 INR\")\n",
    "print(\"Buy price: {:,.2f} INR\".format(buy))\n",
    "print(\"Sell price: {:,.2f} INR\".format(sell))\n",
    "print(\"Return percentage: {:.2f}%\".format(profit_loss))\n",
    "print(\"Profit/Loss: {:,.2f} INR\".format(returns1))"
   ]
  },
  {
   "cell_type": "code",
   "execution_count": 16,
   "id": "d849a79b",
   "metadata": {},
   "outputs": [
    {
     "name": "stdout",
     "output_type": "stream",
     "text": [
      "Investment amount: 10000 INR\n",
      "Return percentage: 10.63%\n",
      "Profit/Loss: 1,062.86 INR\n"
     ]
    }
   ],
   "source": [
    "cash = 10000\n",
    "stock = 0\n",
    "\n",
    "for i in range(0,52): \n",
    "    label = year_2.iloc[i,4]\n",
    "    if label == 1 and stock ==0:\n",
    "      stock = cash/year_2.iloc[i,5]\n",
    "      cash = 0\n",
    "      x = i\n",
    "      break\n",
    "for i in range(x,51):\n",
    "    label = year_2.iloc[i,4]\n",
    "    label2 = year_2.iloc[i+1,4]\n",
    "\n",
    "    if (label == 0 and label2 ==0) and (stock !=0):\n",
    "      cash = stock*year_2.iloc[i,5]\n",
    "      stock = 0\n",
    "    if (label == 1 and label2 ==1) and (stock ==0):\n",
    "      stock = cash/year_2.iloc[i,5]\n",
    "      cash = 0\n",
    "        \n",
    "#cashing out in case we end with stocks\n",
    "if cash == 0:\n",
    "    cash = stock*year_2.iloc[i,5]\n",
    "\n",
    "returns1 = cash-10000\n",
    "\n",
    "profit_loss = 100 * (returns1/10000)\n",
    "\n",
    "print(\"Investment amount: 10000 INR\")\n",
    "print(\"Return percentage: {:.2f}%\".format(profit_loss))\n",
    "print(\"Profit/Loss: {:,.2f} INR\".format(returns1))"
   ]
  },
  {
   "cell_type": "markdown",
   "id": "86342c1e",
   "metadata": {},
   "source": [
    "Therefore our custom strategy gives us a better result by 5.75%\n"
   ]
  },
  {
   "cell_type": "markdown",
   "id": "518672e7",
   "metadata": {},
   "source": [
    "Logistic regression"
   ]
  },
  {
   "cell_type": "code",
   "execution_count": 17,
   "id": "44312638",
   "metadata": {},
   "outputs": [],
   "source": [
    "logreg = LogisticRegression(random_state=16)\n",
    "logreg.fit(X_train, y_train)\n",
    "\n",
    "y_pred = logreg.predict(X_test)"
   ]
  },
  {
   "cell_type": "code",
   "execution_count": 18,
   "id": "d1685f6d",
   "metadata": {},
   "outputs": [
    {
     "name": "stdout",
     "output_type": "stream",
     "text": [
      "[[ 2.1839414  -1.38652531]] [-0.4537133]\n"
     ]
    }
   ],
   "source": [
    "print(logreg.coef_, logreg.intercept_)\n"
   ]
  },
  {
   "cell_type": "markdown",
   "id": "f70bd328",
   "metadata": {},
   "source": [
    "Equation = 1 / (1+e^(-x)), where x = -0.45 + 2.18*(mean_return) - 1.39*(volatility)"
   ]
  },
  {
   "cell_type": "code",
   "execution_count": 19,
   "id": "3c420542",
   "metadata": {},
   "outputs": [
    {
     "name": "stdout",
     "output_type": "stream",
     "text": [
      "0.8076923076923077\n"
     ]
    }
   ],
   "source": [
    "accuracy = accuracy_score(y_test, y_pred)\n",
    "print(accuracy)"
   ]
  },
  {
   "cell_type": "code",
   "execution_count": 20,
   "id": "51e14f6b",
   "metadata": {},
   "outputs": [
    {
     "name": "stdout",
     "output_type": "stream",
     "text": [
      "Confusion Matrix:\n",
      "[[24  8]\n",
      " [ 2 18]]\n"
     ]
    }
   ],
   "source": [
    "result = metrics.confusion_matrix(y_test, y_pred)\n",
    "print(\"Confusion Matrix:\")\n",
    "print(result)"
   ]
  },
  {
   "cell_type": "code",
   "execution_count": 21,
   "id": "00432013",
   "metadata": {},
   "outputs": [
    {
     "data": {
      "text/plain": [
       "0.9"
      ]
     },
     "execution_count": 21,
     "metadata": {},
     "output_type": "execute_result"
    }
   ],
   "source": [
    "TPR = 18/(18+2)\n",
    "TPR"
   ]
  },
  {
   "cell_type": "code",
   "execution_count": 22,
   "id": "d8ac54ff",
   "metadata": {},
   "outputs": [
    {
     "data": {
      "text/plain": [
       "0.75"
      ]
     },
     "execution_count": 22,
     "metadata": {},
     "output_type": "execute_result"
    }
   ],
   "source": [
    "TNR = 24/(24+8)\n",
    "TNR"
   ]
  },
  {
   "cell_type": "markdown",
   "id": "42c61449",
   "metadata": {},
   "source": [
    "Compare custom strategy to buy & hold for logistic regression"
   ]
  },
  {
   "cell_type": "code",
   "execution_count": 23,
   "id": "ac0ad91a",
   "metadata": {},
   "outputs": [],
   "source": [
    "year_2[\"label\"] = y_pred"
   ]
  },
  {
   "cell_type": "code",
   "execution_count": 24,
   "id": "d7c113fe",
   "metadata": {},
   "outputs": [
    {
     "name": "stdout",
     "output_type": "stream",
     "text": [
      "Investment amount: 10000 INR\n",
      "Buy price: 2,428.69 INR\n",
      "Sell price: 2,547.20 INR\n",
      "Return percentage: 4.88%\n",
      "Profit/Loss: 487.96 INR\n"
     ]
    }
   ],
   "source": [
    "#buy and hold for inital investment of 10000 INR\n",
    "no_shares = 10000/year_2.iloc[0]['open']\n",
    "buy = year_2.iloc[0]['open']\n",
    "sell = year_2.iloc[-1]['open']\n",
    "\n",
    "returns1 = (sell*no_shares - buy*no_shares) \n",
    "\n",
    "profit_loss = 100 * (returns1/10000)\n",
    "\n",
    "print(\"Investment amount: 10000 INR\")\n",
    "print(\"Buy price: {:,.2f} INR\".format(buy))\n",
    "print(\"Sell price: {:,.2f} INR\".format(sell))\n",
    "print(\"Return percentage: {:.2f}%\".format(profit_loss))\n",
    "print(\"Profit/Loss: {:,.2f} INR\".format(returns1))"
   ]
  },
  {
   "cell_type": "code",
   "execution_count": 25,
   "id": "bc03302c",
   "metadata": {},
   "outputs": [
    {
     "name": "stdout",
     "output_type": "stream",
     "text": [
      "Investment amount: 10000 INR\n",
      "Return percentage: 17.79%\n",
      "Profit/Loss: 1,779.04 INR\n"
     ]
    }
   ],
   "source": [
    "cash = 10000\n",
    "stock = 0\n",
    "\n",
    "for i in range(0,52): \n",
    "    label = year_2.iloc[i,4]\n",
    "    if label == 1 and stock ==0:\n",
    "      stock = cash/year_2.iloc[i,5]\n",
    "      cash = 0\n",
    "      x = i\n",
    "      break\n",
    "for i in range(x,51):\n",
    "    label = year_2.iloc[i,4]\n",
    "    label2 = year_2.iloc[i+1,4]\n",
    "\n",
    "    if (label == 0 and label2 ==0) and (stock !=0):\n",
    "      cash = stock*year_2.iloc[i,5]\n",
    "      stock = 0\n",
    "    if (label == 1 and label2 ==1) and (stock ==0):\n",
    "      stock = cash/year_2.iloc[i,5]\n",
    "      cash = 0\n",
    "        \n",
    "#cashing out in case we end with stocks\n",
    "if cash == 0:\n",
    "    cash = stock*year_2.iloc[i,5]\n",
    "\n",
    "returns1 = cash-10000\n",
    "\n",
    "profit_loss = 100 * (returns1/10000)\n",
    "\n",
    "print(\"Investment amount: 10000 INR\")\n",
    "print(\"Return percentage: {:.2f}%\".format(profit_loss))\n",
    "print(\"Profit/Loss: {:,.2f} INR\".format(returns1))"
   ]
  },
  {
   "cell_type": "markdown",
   "id": "97f5f0df",
   "metadata": {},
   "source": [
    "Therefore our custom strategy gives us a better result by 12.91%\n"
   ]
  }
 ],
 "metadata": {
  "kernelspec": {
   "display_name": "Python 3 (ipykernel)",
   "language": "python",
   "name": "python3"
  },
  "language_info": {
   "codemirror_mode": {
    "name": "ipython",
    "version": 3
   },
   "file_extension": ".py",
   "mimetype": "text/x-python",
   "name": "python",
   "nbconvert_exporter": "python",
   "pygments_lexer": "ipython3",
   "version": "3.9.12"
  }
 },
 "nbformat": 4,
 "nbformat_minor": 5
}
